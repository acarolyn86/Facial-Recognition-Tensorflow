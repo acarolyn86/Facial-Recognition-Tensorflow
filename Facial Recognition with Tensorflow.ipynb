{
 "cells": [
  {
   "cell_type": "markdown",
   "metadata": {},
   "source": [
    "## Facial Expression Recognition with Tensorflow\n",
    "\n",
    "In this project, we will explore a Kaggle competition that was posted several years ago. The challenge was to take a training set of face images, apply machine learning, and be able to predict the emotions in a set of test images. Each image is categorized under one emotion, which are as follows:\n",
    "\n",
    "0=Angry, 1=Disgust, 2=Fear, 3=Happy, 4=Sad, 5=Surprise, 6=Neutral\n",
    "\n",
    "We will build a model in Tensorflow and evaluate how that model performed.\n",
    "\n",
    "Data source here:\n",
    "https://www.kaggle.com/c/challenges-in-representation-learning-facial-expression-recognition-challenge/data"
   ]
  },
  {
   "cell_type": "code",
   "execution_count": 1,
   "metadata": {},
   "outputs": [],
   "source": [
    "#importing libraries for exploring dataset\n",
    "import pandas as pd\n",
    "import numpy as np\n",
    "import matplotlib.pyplot as plt\n",
    "import cv2\n",
    "from matplotlib.image import imread"
   ]
  },
  {
   "cell_type": "code",
   "execution_count": 2,
   "metadata": {},
   "outputs": [],
   "source": [
    "#reading in the csv file\n",
    "images = pd.read_csv('icml_face_data.csv.zip')"
   ]
  },
  {
   "cell_type": "code",
   "execution_count": 3,
   "metadata": {},
   "outputs": [
    {
     "name": "stdout",
     "output_type": "stream",
     "text": [
      "<class 'pandas.core.frame.DataFrame'>\n",
      "RangeIndex: 35887 entries, 0 to 35886\n",
      "Data columns (total 3 columns):\n",
      " #   Column   Non-Null Count  Dtype \n",
      "---  ------   --------------  ----- \n",
      " 0   emotion  35887 non-null  int64 \n",
      " 1    Usage   35887 non-null  object\n",
      " 2    pixels  35887 non-null  object\n",
      "dtypes: int64(1), object(2)\n",
      "memory usage: 841.2+ KB\n"
     ]
    }
   ],
   "source": [
    "#checking out the dataframe\n",
    "images.info()"
   ]
  },
  {
   "cell_type": "markdown",
   "metadata": {},
   "source": [
    "Each row in the dataset contains whether it is part of the training or test set (Usage), the emotion category (emotion), and the pixels (pixels) corresponding to the actual image data. \n",
    "\n",
    "Before we look at the actual data, it looks like we have some spaces in the column names. Let's strip those out."
   ]
  },
  {
   "cell_type": "code",
   "execution_count": 4,
   "metadata": {},
   "outputs": [
    {
     "name": "stdout",
     "output_type": "stream",
     "text": [
      "<class 'pandas.core.frame.DataFrame'>\n",
      "RangeIndex: 35887 entries, 0 to 35886\n",
      "Data columns (total 3 columns):\n",
      " #   Column   Non-Null Count  Dtype \n",
      "---  ------   --------------  ----- \n",
      " 0   emotion  35887 non-null  int64 \n",
      " 1   Usage    35887 non-null  object\n",
      " 2   pixels   35887 non-null  object\n",
      "dtypes: int64(1), object(2)\n",
      "memory usage: 841.2+ KB\n"
     ]
    }
   ],
   "source": [
    "#stripping whitespace from the column names\n",
    "images.columns = images.columns.str.strip()\n",
    "\n",
    "#rechecking the dataframe\n",
    "images.info()"
   ]
  },
  {
   "cell_type": "markdown",
   "metadata": {},
   "source": [
    "First, let's view one of the pictures to get a sense of what the data looks like."
   ]
  },
  {
   "cell_type": "code",
   "execution_count": 5,
   "metadata": {},
   "outputs": [
    {
     "data": {
      "image/png": "[encoded data removed]",
      "text/plain": [
       "<Figure size 432x288 with 1 Axes>"
      ]
     },
     "metadata": {
      "needs_background": "light"
     },
     "output_type": "display_data"
    }
   ],
   "source": [
    "#extracting the first picture in the csv file\n",
    "pic1 = images.loc[0,'pixels']\n",
    "\n",
    "#splitting the pixels up, converting the pixels from strings to integers, and reshaping\n",
    "#into a 48x48 shape\n",
    "pic_strip = pic1.split(' ')\n",
    "pic_strip = [int(num) for num in pic_strip]\n",
    "final_pic = np.reshape(pic_strip,(48,48))\n",
    "\n",
    "#showing the picture, which is in greyscale\n",
    "plt.imshow(final_pic, cmap='Greys_r')\n",
    "plt.show()"
   ]
  },
  {
   "cell_type": "markdown",
   "metadata": {},
   "source": [
    "We have the picture. What emotion is this classified as in the dataset?"
   ]
  },
  {
   "cell_type": "code",
   "execution_count": 6,
   "metadata": {},
   "outputs": [
    {
     "data": {
      "text/plain": [
       "0"
      ]
     },
     "execution_count": 6,
     "metadata": {},
     "output_type": "execute_result"
    }
   ],
   "source": [
    "images.loc[0,'emotion']"
   ]
  },
  {
   "cell_type": "markdown",
   "metadata": {},
   "source": [
    "0 is the code for Angry. \n",
    "\n",
    "Now that we have an example of what the images look like, let's convert all the images into their own files. Then we'll save these files in their own respective folders. This will be used later when we begin preparing the images for the neural network. We'll also split up the images into training, validation, and test sets."
   ]
  },
  {
   "cell_type": "code",
   "execution_count": 7,
   "metadata": {},
   "outputs": [
    {
     "name": "stdout",
     "output_type": "stream",
     "text": [
      "Number of training images: 21532\n",
      "Number of validation images: 7177\n",
      "Number of test images: 3589\n"
     ]
    }
   ],
   "source": [
    "#defined folder for pictures to go into\n",
    "path = '/Facial Recognition/'\n",
    "\n",
    "#function to reshape each row of pixels into an image\n",
    "def create_images(pic, n):\n",
    "    pic_info = pic.loc[n,'pixels'].split(' ')\n",
    "    pic_info = [int(num) for num in pic_info]\n",
    "    final_pic = np.reshape(pic_info,(48,48))\n",
    "    return final_pic\n",
    "\n",
    "#splitting the images dataframe into a training set and a test set\n",
    "training = images.loc[images.Usage=='Training',:]\n",
    "testing = images.loc[images.Usage=='PublicTest',:]\n",
    "\n",
    "#creating a validation set from the training set\n",
    "val_len = round(0.25 * training.shape[0])\n",
    "validation = training.iloc[(training.shape[0]-val_len):,:]\n",
    "\n",
    "#reshaping the training set\n",
    "training = training.iloc[:(training.shape[0]-val_len),:]\n",
    "\n",
    "#write each set of pixels into its own image in a designated folder\n",
    "em_map_str= {0:'Angry',1:'Disgust',2:'Fear',3:'Happy',4:'Sad',5:'Surprise',6:'Neutral'}\n",
    "\n",
    "for file_dir in ['Train','Test','Validation']:\n",
    "\n",
    "    if file_dir == 'Train':\n",
    "        df = training\n",
    "    elif file_dir == 'Test':\n",
    "        df = testing\n",
    "    else:\n",
    "        df = validation\n",
    "    \n",
    "    for sub_dir in images.emotion.unique():\n",
    "        [cv2.imwrite(path+file_dir+'/'+em_map_str[sub_dir]+'/face_'+str(i)+'.jpg', \n",
    "                     create_images(images,i)) for i in df.loc[df.emotion==sub_dir,:].index]\n",
    "\n",
    "print('Number of training images:',training.shape[0])\n",
    "print('Number of validation images:',validation.shape[0])\n",
    "print('Number of test images:',testing.shape[0])"
   ]
  },
  {
   "cell_type": "markdown",
   "metadata": {},
   "source": [
    "Now that we've separated the data into a training, validation, and test set, let's take a look at the classes in the training set."
   ]
  },
  {
   "cell_type": "code",
   "execution_count": 8,
   "metadata": {},
   "outputs": [
    {
     "data": {
      "text/plain": [
       "3    5417\n",
       "6    3718\n",
       "4    3606\n",
       "2    3124\n",
       "0    3009\n",
       "5    2314\n",
       "1     344\n",
       "Name: emotion, dtype: int64"
      ]
     },
     "execution_count": 8,
     "metadata": {},
     "output_type": "execute_result"
    }
   ],
   "source": [
    "training.emotion.value_counts()"
   ]
  },
  {
   "cell_type": "markdown",
   "metadata": {},
   "source": [
    "Based on the counts above, the classes are imbalanced. The top emotion (Happy) occurs 5,417 times, but the least present emotion (Disgust) only occurs 344 times. We will need to either 1) upsample the least present class or 2) assign weights the classes so the model trains correctly.\n",
    "\n",
    "We'll use weights, which we will define later below. For now we will build our model."
   ]
  },
  {
   "cell_type": "code",
   "execution_count": 9,
   "metadata": {},
   "outputs": [],
   "source": [
    "#importing Tensorflow libraries\n",
    "from tensorflow.keras.models import Sequential\n",
    "from tensorflow.keras.layers import Conv2D\n",
    "from tensorflow.keras.layers import MaxPool2D\n",
    "from tensorflow.keras.layers import Flatten\n",
    "from tensorflow.keras.layers import Dense\n",
    "from tensorflow.keras.layers import Dropout\n",
    "from tensorflow.keras.layers import BatchNormalization"
   ]
  },
  {
   "cell_type": "code",
   "execution_count": 10,
   "metadata": {},
   "outputs": [],
   "source": [
    "#instantiating the neural network\n",
    "model = Sequential()"
   ]
  },
  {
   "cell_type": "markdown",
   "metadata": {},
   "source": [
    "We've instantiated an object of the Sequential class, which creates the base of the neural network. Next, we will add layers into the network. The first set of layers will be our feature detection layers, designed to determine what the relevant features in each image are, and extract them. This is done using convolution and max pooling. \n",
    "\n",
    "Convolution takes a matrix and slides it over the image to convolve the two together. This is  filtering the image to extract relevant features, creating a set of feature matrices. Each feature matrix shows a specific feature from the image. \n",
    "\n",
    "We follow covolution by max pooling. This takes a smaller matrix (in this case we will use a 2x2), slides it over the image, and retains the maximum value of the pixels in each window. This further defines relevant features while filtering out excess information. These steps create a set of feature detection matrices. \n",
    "\n",
    "The feature detection matrices are fed into the network after being flattened, as the input into the neural network must be a 1D vector."
   ]
  },
  {
   "cell_type": "code",
   "execution_count": 11,
   "metadata": {},
   "outputs": [
    {
     "name": "stdout",
     "output_type": "stream",
     "text": [
      "Model: \"sequential\"\n",
      "_________________________________________________________________\n",
      "Layer (type)                 Output Shape              Param #   \n",
      "=================================================================\n",
      "conv2d (Conv2D)              (None, 46, 46, 32)        320       \n",
      "_________________________________________________________________\n",
      "batch_normalization (BatchNo (None, 46, 46, 32)        128       \n",
      "_________________________________________________________________\n",
      "max_pooling2d (MaxPooling2D) (None, 23, 23, 32)        0         \n",
      "_________________________________________________________________\n",
      "conv2d_1 (Conv2D)            (None, 21, 21, 64)        18496     \n",
      "_________________________________________________________________\n",
      "batch_normalization_1 (Batch (None, 21, 21, 64)        256       \n",
      "_________________________________________________________________\n",
      "max_pooling2d_1 (MaxPooling2 (None, 10, 10, 64)        0         \n",
      "_________________________________________________________________\n",
      "conv2d_2 (Conv2D)            (None, 8, 8, 128)         73856     \n",
      "_________________________________________________________________\n",
      "batch_normalization_2 (Batch (None, 8, 8, 128)         512       \n",
      "_________________________________________________________________\n",
      "max_pooling2d_2 (MaxPooling2 (None, 4, 4, 128)         0         \n",
      "_________________________________________________________________\n",
      "conv2d_3 (Conv2D)            (None, 2, 2, 128)         147584    \n",
      "_________________________________________________________________\n",
      "batch_normalization_3 (Batch (None, 2, 2, 128)         512       \n",
      "_________________________________________________________________\n",
      "max_pooling2d_3 (MaxPooling2 (None, 1, 1, 128)         0         \n",
      "_________________________________________________________________\n",
      "flatten (Flatten)            (None, 128)               0         \n",
      "=================================================================\n",
      "Total params: 241,664\n",
      "Trainable params: 240,960\n",
      "Non-trainable params: 704\n",
      "_________________________________________________________________\n"
     ]
    }
   ],
   "source": [
    "#Adding 4 sets of convolutional/pooling layers\n",
    "\n",
    "#Convolution - creating 32 filters of size 3x3, using ReLu activation function\n",
    "model.add(Conv2D(filters=32,kernel_size=3,input_shape=(48,48,1),activation='relu'))\n",
    "#Batch normalization layer\n",
    "model.add(BatchNormalization())\n",
    "#max pooling layer, with 2x2 size\n",
    "model.add(MaxPool2D(pool_size=(2,2)))\n",
    "\n",
    "#adding additional layers\n",
    "model.add(Conv2D(filters=64,kernel_size=3,activation='relu'))\n",
    "model.add(BatchNormalization())\n",
    "model.add(MaxPool2D(pool_size=(2,2)))\n",
    "\n",
    "model.add(Conv2D(filters=128,kernel_size=3,activation='relu'))\n",
    "model.add(BatchNormalization())\n",
    "model.add(MaxPool2D(pool_size=(2,2)))\n",
    "\n",
    "model.add(Conv2D(filters=128,kernel_size=3,activation='relu'))\n",
    "model.add(BatchNormalization())\n",
    "model.add(MaxPool2D(pool_size=(2,2)))\n",
    "\n",
    "#Flattening input into 1D vector\n",
    "model.add(Flatten())\n",
    "\n",
    "model.summary()"
   ]
  },
  {
   "cell_type": "markdown",
   "metadata": {},
   "source": [
    "We've completed the input layer of the network. Next we create fully hidden layers and the output layer, which will give us our classification. The output layer will have 7 nodes since this classification problem has 7 possible outputs. "
   ]
  },
  {
   "cell_type": "code",
   "execution_count": 12,
   "metadata": {},
   "outputs": [],
   "source": [
    "#adding fully connected inner layer\n",
    "model.add(Dense(128, activation='relu')) \n",
    "\n",
    "#adding another fully connected inner layer\n",
    "model.add(Dense(128, activation='relu')) \n",
    "\n",
    "#adding the output layer\n",
    "model.add(Dense(7, activation='softmax'))"
   ]
  },
  {
   "cell_type": "markdown",
   "metadata": {},
   "source": [
    "Next we will compile the model and fit the model to the training data. "
   ]
  },
  {
   "cell_type": "code",
   "execution_count": 13,
   "metadata": {},
   "outputs": [],
   "source": [
    "#compile the model\n",
    "model.compile(optimizer='adam',loss='categorical_crossentropy',metrics=['accuracy'])"
   ]
  },
  {
   "cell_type": "markdown",
   "metadata": {},
   "source": [
    "Before we run the model, we will normalize all the pixels between the values 0 and 1. We will also perform image augmentation with the ImageDataGenerator class in Tensorflow. This class performs rotating, shearing, shifting, etc on images and generates new ones, essentially \"creating\" new images to train from. This will compensate to a degree for the lack of images available in the dataset.\n",
    "\n",
    "Here we also define the weights to be used during training. Because we have at least 1 class that is underrepresented, that class will be weighted more heavily than the others. This should help address the imbalance problem."
   ]
  },
  {
   "cell_type": "code",
   "execution_count": 14,
   "metadata": {},
   "outputs": [
    {
     "name": "stdout",
     "output_type": "stream",
     "text": [
      "Found 21532 images belonging to 7 classes.\n",
      "Found 7177 images belonging to 7 classes.\n",
      "WARNING:tensorflow:sample_weight modes were coerced from\n",
      "  ...\n",
      "    to  \n",
      "  ['...']\n",
      "WARNING:tensorflow:sample_weight modes were coerced from\n",
      "  ...\n",
      "    to  \n",
      "  ['...']\n",
      "Train for 336 steps, validate for 112 steps\n",
      "Epoch 1/50\n",
      "336/336 [==============================] - 153s 456ms/step - loss: 3.3794 - accuracy: 0.2025 - val_loss: 3.4596 - val_accuracy: 0.1738\n",
      "Epoch 2/50\n",
      "336/336 [==============================] - 73s 218ms/step - loss: 3.1997 - accuracy: 0.2557 - val_loss: 3.0691 - val_accuracy: 0.3022\n",
      "Epoch 3/50\n",
      "336/336 [==============================] - 58s 172ms/step - loss: 3.0494 - accuracy: 0.3096 - val_loss: 3.4797 - val_accuracy: 0.3114\n",
      "Epoch 4/50\n",
      "336/336 [==============================] - 58s 172ms/step - loss: 2.9268 - accuracy: 0.3472 - val_loss: 3.2992 - val_accuracy: 0.3013\n",
      "Epoch 5/50\n",
      "336/336 [==============================] - 56s 167ms/step - loss: 2.8264 - accuracy: 0.3793 - val_loss: 2.8415 - val_accuracy: 0.3585\n",
      "Epoch 6/50\n",
      "336/336 [==============================] - 57s 168ms/step - loss: 2.7515 - accuracy: 0.3943 - val_loss: 3.0511 - val_accuracy: 0.3258\n",
      "Epoch 7/50\n",
      "336/336 [==============================] - 56s 166ms/step - loss: 2.6637 - accuracy: 0.4107 - val_loss: 3.0587 - val_accuracy: 0.3682\n",
      "Epoch 8/50\n",
      "336/336 [==============================] - 56s 166ms/step - loss: 2.6341 - accuracy: 0.4183 - val_loss: 2.8936 - val_accuracy: 0.4194\n",
      "Epoch 9/50\n",
      "336/336 [==============================] - 57s 170ms/step - loss: 2.4753 - accuracy: 0.4498 - val_loss: 2.4626 - val_accuracy: 0.4595\n",
      "Epoch 10/50\n",
      "336/336 [==============================] - 57s 170ms/step - loss: 2.4200 - accuracy: 0.4605 - val_loss: 2.4039 - val_accuracy: 0.4750\n",
      "Epoch 11/50\n",
      "336/336 [==============================] - 56s 168ms/step - loss: 2.3918 - accuracy: 0.4698 - val_loss: 2.3913 - val_accuracy: 0.4665\n",
      "Epoch 12/50\n",
      "336/336 [==============================] - 57s 169ms/step - loss: 2.3949 - accuracy: 0.4703 - val_loss: 2.4002 - val_accuracy: 0.4708\n",
      "Epoch 13/50\n",
      "336/336 [==============================] - 57s 170ms/step - loss: 2.3298 - accuracy: 0.4766 - val_loss: 2.3789 - val_accuracy: 0.4900\n",
      "Epoch 14/50\n",
      "336/336 [==============================] - 58s 171ms/step - loss: 2.3230 - accuracy: 0.4825 - val_loss: 2.3646 - val_accuracy: 0.4678\n",
      "Epoch 15/50\n",
      "336/336 [==============================] - 58s 174ms/step - loss: 2.3095 - accuracy: 0.4871 - val_loss: 2.3772 - val_accuracy: 0.4739\n",
      "Epoch 16/50\n",
      "336/336 [==============================] - 58s 172ms/step - loss: 2.2914 - accuracy: 0.4847 - val_loss: 2.3600 - val_accuracy: 0.4879\n",
      "Epoch 17/50\n",
      "336/336 [==============================] - 58s 172ms/step - loss: 2.2631 - accuracy: 0.4948 - val_loss: 2.3115 - val_accuracy: 0.4856\n",
      "Epoch 18/50\n",
      "336/336 [==============================] - 57s 170ms/step - loss: 2.2568 - accuracy: 0.4937 - val_loss: 2.4039 - val_accuracy: 0.4814\n",
      "Epoch 19/50\n",
      "336/336 [==============================] - 58s 173ms/step - loss: 2.2352 - accuracy: 0.4973 - val_loss: 2.3945 - val_accuracy: 0.4509\n",
      "Epoch 20/50\n",
      "336/336 [==============================] - 58s 174ms/step - loss: 2.2308 - accuracy: 0.4978 - val_loss: 2.2938 - val_accuracy: 0.5102\n",
      "Epoch 21/50\n",
      "336/336 [==============================] - 58s 173ms/step - loss: 2.2114 - accuracy: 0.5053 - val_loss: 2.3487 - val_accuracy: 0.4967\n",
      "Epoch 22/50\n",
      "336/336 [==============================] - 59s 176ms/step - loss: 2.1989 - accuracy: 0.5050 - val_loss: 2.3317 - val_accuracy: 0.5073\n",
      "Epoch 23/50\n",
      "336/336 [==============================] - 59s 176ms/step - loss: 2.1994 - accuracy: 0.5086 - val_loss: 2.3039 - val_accuracy: 0.4979\n",
      "Epoch 24/50\n",
      "336/336 [==============================] - 60s 178ms/step - loss: 2.1666 - accuracy: 0.5115 - val_loss: 2.2375 - val_accuracy: 0.5140\n",
      "Epoch 25/50\n",
      "336/336 [==============================] - 62s 183ms/step - loss: 2.1436 - accuracy: 0.5135 - val_loss: 2.2339 - val_accuracy: 0.5144\n",
      "Epoch 26/50\n",
      "336/336 [==============================] - 59s 176ms/step - loss: 2.1188 - accuracy: 0.5182 - val_loss: 2.2469 - val_accuracy: 0.5006\n",
      "Epoch 27/50\n",
      "336/336 [==============================] - 59s 177ms/step - loss: 2.1291 - accuracy: 0.5157 - val_loss: 2.2285 - val_accuracy: 0.5209\n",
      "Epoch 28/50\n",
      "336/336 [==============================] - 58s 172ms/step - loss: 2.1340 - accuracy: 0.5154 - val_loss: 2.2063 - val_accuracy: 0.5172\n",
      "Epoch 29/50\n",
      "336/336 [==============================] - 58s 174ms/step - loss: 2.1200 - accuracy: 0.5171 - val_loss: 2.2236 - val_accuracy: 0.5142\n",
      "Epoch 30/50\n",
      "336/336 [==============================] - 59s 176ms/step - loss: 2.1036 - accuracy: 0.5198 - val_loss: 2.2511 - val_accuracy: 0.5035\n",
      "Epoch 31/50\n",
      "336/336 [==============================] - 59s 177ms/step - loss: 2.0903 - accuracy: 0.5277 - val_loss: 2.2325 - val_accuracy: 0.5054\n",
      "Epoch 32/50\n",
      "336/336 [==============================] - 59s 176ms/step - loss: 2.0928 - accuracy: 0.5244 - val_loss: 2.1932 - val_accuracy: 0.5225\n",
      "Epoch 33/50\n",
      "336/336 [==============================] - 59s 175ms/step - loss: 2.0990 - accuracy: 0.5235 - val_loss: 2.2141 - val_accuracy: 0.5220\n",
      "Epoch 34/50\n",
      "336/336 [==============================] - 58s 173ms/step - loss: 2.0971 - accuracy: 0.5280 - val_loss: 2.2211 - val_accuracy: 0.5225\n",
      "Epoch 35/50\n",
      "336/336 [==============================] - 59s 174ms/step - loss: 2.0813 - accuracy: 0.5258 - val_loss: 2.1956 - val_accuracy: 0.5286\n",
      "Epoch 36/50\n",
      "336/336 [==============================] - 58s 172ms/step - loss: 2.1105 - accuracy: 0.5249 - val_loss: 2.1941 - val_accuracy: 0.5211\n",
      "Epoch 37/50\n",
      "336/336 [==============================] - 57s 168ms/step - loss: 2.1136 - accuracy: 0.5228 - val_loss: 2.2203 - val_accuracy: 0.5176\n"
     ]
    },
    {
     "data": {
      "text/plain": [
       "<tensorflow.python.keras.callbacks.History at 0x63d306710>"
      ]
     },
     "execution_count": 14,
     "metadata": {},
     "output_type": "execute_result"
    }
   ],
   "source": [
    "#import libraries\n",
    "from tensorflow.keras.preprocessing.image import ImageDataGenerator\n",
    "from tensorflow.keras.callbacks import EarlyStopping\n",
    "from tensorflow.keras.callbacks import ReduceLROnPlateau\n",
    "from collections import Counter\n",
    "\n",
    "#setting batch size\n",
    "batch_size=64\n",
    "training_size = training.shape[0]\n",
    "validation_size = validation.shape[0]\n",
    "\n",
    "#creating an ImageDataGenerator object for the training set for augmentation\n",
    "train_datagen = ImageDataGenerator(\n",
    "        rescale=1./255,\n",
    "        shear_range=0.2,\n",
    "        zoom_range=0.2,\n",
    "        rotation_range=15,\n",
    "        width_shift_range = 0.2,\n",
    "        height_shift_range = 0.2,\n",
    "        horizontal_flip=True,fill_mode='nearest')\n",
    "\n",
    "#creating a separate ImageDataGenerator object for the validation set\n",
    "test_datagen = ImageDataGenerator(rescale=1./255)\n",
    "\n",
    "path_train = '/Facial Recognition/Train'\n",
    "path_val = '/Facial Recognition/Validation'\n",
    "\n",
    "#creating \"new\" images according to batch size\n",
    "train_generator = train_datagen.flow_from_directory(\n",
    "        path_train,\n",
    "        target_size=(48, 48),\n",
    "        batch_size=batch_size,\n",
    "        class_mode='categorical',\n",
    "        color_mode='grayscale',\n",
    "        seed=1, shuffle=True)\n",
    "\n",
    "validation_generator = train_datagen.flow_from_directory(\n",
    "        path_val,\n",
    "        target_size=(48, 48),\n",
    "        batch_size=batch_size,\n",
    "        class_mode='categorical',\n",
    "        color_mode='grayscale',\n",
    "        seed=1, shuffle=True)\n",
    "\n",
    "#defining early stopping and learning rate callbacks for model fitting\n",
    "ES = EarlyStopping(monitor='val_loss',patience=5)\n",
    "\n",
    "reduce_lr = ReduceLROnPlateau(monitor='val_loss', factor=0.2,\n",
    "                              patience=3,min_delta=0.0001)\n",
    "\n",
    "#computing class weights and placing them in a dictionary\n",
    "counter = Counter(train_generator.classes)    \n",
    "max_num = max(counter.values()) \n",
    "weights = {class_id : max_num/num for class_id, num in counter.items()} \n",
    "\n",
    "#fitting the model\n",
    "model.fit(\n",
    "        train_generator,\n",
    "        steps_per_epoch=training_size//batch_size,\n",
    "        epochs=50,\n",
    "        validation_data=validation_generator, shuffle=True,callbacks=[ES,reduce_lr],\n",
    "        class_weight=weights,\n",
    "        validation_steps=validation_size//batch_size)"
   ]
  },
  {
   "cell_type": "markdown",
   "metadata": {},
   "source": [
    "We've completed our first run of this model. On first glance, the validation accuracy is much better than if we were picking a class for each picture at random (which would be 14%). Still, there is room for improvement.\n",
    "\n",
    "The model has been trained, so let's examine how the model performed and get predictions. We'll start by plotting out the losses and accuracy during training."
   ]
  },
  {
   "cell_type": "code",
   "execution_count": 15,
   "metadata": {},
   "outputs": [
    {
     "data": {
      "image/png": "[encoded data removed]",
      "text/plain": [
       "<Figure size 432x288 with 1 Axes>"
      ]
     },
     "metadata": {
      "needs_background": "light"
     },
     "output_type": "display_data"
    }
   ],
   "source": [
    "losses = pd.DataFrame(model.history.history)\n",
    "losses.loc[:,['loss','val_loss']].plot()\n",
    "plt.title('Training Loss vs Validation Loss')\n",
    "plt.show()"
   ]
  },
  {
   "cell_type": "code",
   "execution_count": 16,
   "metadata": {},
   "outputs": [
    {
     "data": {
      "image/png": "[encoded data removed]",
      "text/plain": [
       "<Figure size 432x288 with 1 Axes>"
      ]
     },
     "metadata": {
      "needs_background": "light"
     },
     "output_type": "display_data"
    }
   ],
   "source": [
    "losses.loc[:,['accuracy','val_accuracy']].plot()\n",
    "plt.title('Training Accuracy vs Validation Accuracy')\n",
    "plt.show()"
   ]
  },
  {
   "cell_type": "markdown",
   "metadata": {},
   "source": [
    "We can tell from the above graphs when the training ended, because the loss and accuracy started to level off. We can also see that because accuracy is the around same for both training and validation, that the model did not overfit to the training set. This is good because it indicates the model can take new data and make accurate predictions.\n",
    "\n",
    "Next we will analyze the predictions."
   ]
  },
  {
   "cell_type": "code",
   "execution_count": 17,
   "metadata": {},
   "outputs": [
    {
     "name": "stdout",
     "output_type": "stream",
     "text": [
      "Found 3589 images belonging to 7 classes.\n"
     ]
    }
   ],
   "source": [
    "path_test = '/Facial Recognition/Test'\n",
    "\n",
    "#create test image datagenerator\n",
    "test_generator = test_datagen.flow_from_directory(\n",
    "        path_test,\n",
    "        target_size=(48, 48),\n",
    "        batch_size=32,\n",
    "        class_mode='categorical',\n",
    "        color_mode='grayscale',\n",
    "        seed=1)\n",
    "\n",
    "#getting predictions using test image generator\n",
    "pred=model.predict(x=test_generator)\n",
    "\n",
    "#getting the predicted class indices\n",
    "predicted_class_indices=np.argmax(pred,axis=1)"
   ]
  },
  {
   "cell_type": "code",
   "execution_count": 18,
   "metadata": {},
   "outputs": [],
   "source": [
    "#getting the labels\n",
    "labels = (train_generator.class_indices)\n",
    "labels = dict((v,k) for k,v in labels.items())\n",
    "\n",
    "#matching the labels to the class indices\n",
    "predictions = [labels[k] for k in predicted_class_indices]"
   ]
  },
  {
   "cell_type": "code",
   "execution_count": 19,
   "metadata": {},
   "outputs": [],
   "source": [
    "#mapping the labels to their numerical classifications for the classification report\n",
    "em_map_num={'Angry':0,'Disgust':1,'Fear':2,'Happy':3,'Sad':4,'Surprise':5,'Neutral':6}\n",
    "predictions_num = [em_map_num[i] for i in predictions]"
   ]
  },
  {
   "cell_type": "code",
   "execution_count": 20,
   "metadata": {},
   "outputs": [
    {
     "name": "stdout",
     "output_type": "stream",
     "text": [
      "              precision    recall  f1-score   support\n",
      "\n",
      "           0       0.14      0.15      0.14       467\n",
      "           1       0.02      0.07      0.03        56\n",
      "           2       0.15      0.11      0.12       496\n",
      "           3       0.26      0.22      0.24       895\n",
      "           4       0.18      0.12      0.14       607\n",
      "           5       0.17      0.15      0.16       653\n",
      "           6       0.11      0.21      0.15       415\n",
      "\n",
      "    accuracy                           0.16      3589\n",
      "   macro avg       0.15      0.15      0.14      3589\n",
      "weighted avg       0.18      0.16      0.17      3589\n",
      "\n"
     ]
    }
   ],
   "source": [
    "#import metrics from scikit learn \n",
    "from sklearn.metrics import classification_report\n",
    "\n",
    "#print the classification report\n",
    "print(classification_report(test_generator.classes,predictions_num))"
   ]
  },
  {
   "cell_type": "markdown",
   "metadata": {},
   "source": [
    "Based on the above classification report, the classes that were best categorized by this model were 3 (Happy) and 5 (Surprise), with the worst being 1 (Disgust). The fact that disgust was not classified well is not a surpise, as it had the least amount of data available. However, we used class weighting to try and compensate for this.\n",
    "\n",
    "This concludes our first run of this tensorflow model. Although our final validation accuracy hit 52% (which is better than if we picked a class for each picture at random), there is still room for improvement. To make our accuracy higher, we could experiment with adding hidden layers and dropping neurons. But one of the most important things we could do is to add more data, as the amount of images we have for classification is quite small. This includes increasing the number of minority class images to make the dataset less imbalanced."
   ]
  }
 ],
 "metadata": {
  "kernelspec": {
   "display_name": "Python 3",
   "language": "python",
   "name": "python3"
  },
  "language_info": {
   "codemirror_mode": {
    "name": "ipython",
    "version": 3
   },
   "file_extension": ".py",
   "mimetype": "text/x-python",
   "name": "python",
   "nbconvert_exporter": "python",
   "pygments_lexer": "ipython3",
   "version": "3.7.6"
  }
 },
 "nbformat": 4,
 "nbformat_minor": 4
}
